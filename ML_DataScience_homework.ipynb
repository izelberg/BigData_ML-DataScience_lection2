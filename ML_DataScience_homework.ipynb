{
 "cells": [
  {
   "cell_type": "markdown",
   "metadata": {},
   "source": [
    "## 1 Домашнее задание \"Машинное обучение и Data Science\"\n",
    "Взять датасет homework.csv\n",
    "Описание датасета доступно тут - https://www.kaggle.com/c/boston-housing/overview\n",
    "Предсказываем значение столбца MEDV на основе других признаков\n",
    "Решить задачу регрессии, используя алгоритм линейной регрессии:\n",
    "https://scikit-learn.org/stable/modules/generated/sklearn.linear_model.LinearRegression.html\n",
    "Оценить качество регрессии при помощи метрики MSE:\n",
    "https://scikit-learn.org/stable/modules/generated/sklearn.metrics.mean_squared_error.html\n",
    "Шаблон для выполнения домашнего задания:\n",
    "https://colab.research.google.com/drive/1x4tenHozBvzWG-I_TcKcdCS12V0xhZ8f?usp=sharing"
   ]
  },
  {
   "cell_type": "code",
   "execution_count": 1,
   "metadata": {},
   "outputs": [],
   "source": [
    "import pandas as pd\n",
    "import matplotlib.pyplot as plt\n",
    "import seaborn as sns\n",
    "import numpy as np"
   ]
  },
  {
   "cell_type": "code",
   "execution_count": 2,
   "metadata": {},
   "outputs": [
    {
     "data": {
      "text/html": [
       "<div>\n",
       "<style scoped>\n",
       "    .dataframe tbody tr th:only-of-type {\n",
       "        vertical-align: middle;\n",
       "    }\n",
       "\n",
       "    .dataframe tbody tr th {\n",
       "        vertical-align: top;\n",
       "    }\n",
       "\n",
       "    .dataframe thead th {\n",
       "        text-align: right;\n",
       "    }\n",
       "</style>\n",
       "<table border=\"1\" class=\"dataframe\">\n",
       "  <thead>\n",
       "    <tr style=\"text-align: right;\">\n",
       "      <th></th>\n",
       "      <th>ID</th>\n",
       "      <th>crim</th>\n",
       "      <th>zn</th>\n",
       "      <th>indus</th>\n",
       "      <th>chas</th>\n",
       "      <th>nox</th>\n",
       "      <th>rm</th>\n",
       "      <th>age</th>\n",
       "      <th>dis</th>\n",
       "      <th>rad</th>\n",
       "      <th>tax</th>\n",
       "      <th>ptratio</th>\n",
       "      <th>black</th>\n",
       "      <th>lstat</th>\n",
       "      <th>medv</th>\n",
       "    </tr>\n",
       "  </thead>\n",
       "  <tbody>\n",
       "    <tr>\n",
       "      <th>0</th>\n",
       "      <td>1</td>\n",
       "      <td>0.00632</td>\n",
       "      <td>18.0</td>\n",
       "      <td>2.31</td>\n",
       "      <td>0</td>\n",
       "      <td>0.538</td>\n",
       "      <td>6.575</td>\n",
       "      <td>65.2</td>\n",
       "      <td>4.0900</td>\n",
       "      <td>1</td>\n",
       "      <td>296</td>\n",
       "      <td>15.3</td>\n",
       "      <td>396.90</td>\n",
       "      <td>4.98</td>\n",
       "      <td>24.0</td>\n",
       "    </tr>\n",
       "    <tr>\n",
       "      <th>1</th>\n",
       "      <td>2</td>\n",
       "      <td>0.02731</td>\n",
       "      <td>0.0</td>\n",
       "      <td>7.07</td>\n",
       "      <td>0</td>\n",
       "      <td>0.469</td>\n",
       "      <td>6.421</td>\n",
       "      <td>78.9</td>\n",
       "      <td>4.9671</td>\n",
       "      <td>2</td>\n",
       "      <td>242</td>\n",
       "      <td>17.8</td>\n",
       "      <td>396.90</td>\n",
       "      <td>9.14</td>\n",
       "      <td>21.6</td>\n",
       "    </tr>\n",
       "    <tr>\n",
       "      <th>2</th>\n",
       "      <td>4</td>\n",
       "      <td>0.03237</td>\n",
       "      <td>0.0</td>\n",
       "      <td>2.18</td>\n",
       "      <td>0</td>\n",
       "      <td>0.458</td>\n",
       "      <td>6.998</td>\n",
       "      <td>45.8</td>\n",
       "      <td>6.0622</td>\n",
       "      <td>3</td>\n",
       "      <td>222</td>\n",
       "      <td>18.7</td>\n",
       "      <td>394.63</td>\n",
       "      <td>2.94</td>\n",
       "      <td>33.4</td>\n",
       "    </tr>\n",
       "    <tr>\n",
       "      <th>3</th>\n",
       "      <td>5</td>\n",
       "      <td>0.06905</td>\n",
       "      <td>0.0</td>\n",
       "      <td>2.18</td>\n",
       "      <td>0</td>\n",
       "      <td>0.458</td>\n",
       "      <td>7.147</td>\n",
       "      <td>54.2</td>\n",
       "      <td>6.0622</td>\n",
       "      <td>3</td>\n",
       "      <td>222</td>\n",
       "      <td>18.7</td>\n",
       "      <td>396.90</td>\n",
       "      <td>5.33</td>\n",
       "      <td>36.2</td>\n",
       "    </tr>\n",
       "    <tr>\n",
       "      <th>4</th>\n",
       "      <td>7</td>\n",
       "      <td>0.08829</td>\n",
       "      <td>12.5</td>\n",
       "      <td>7.87</td>\n",
       "      <td>0</td>\n",
       "      <td>0.524</td>\n",
       "      <td>6.012</td>\n",
       "      <td>66.6</td>\n",
       "      <td>5.5605</td>\n",
       "      <td>5</td>\n",
       "      <td>311</td>\n",
       "      <td>15.2</td>\n",
       "      <td>395.60</td>\n",
       "      <td>12.43</td>\n",
       "      <td>22.9</td>\n",
       "    </tr>\n",
       "    <tr>\n",
       "      <th>5</th>\n",
       "      <td>11</td>\n",
       "      <td>0.22489</td>\n",
       "      <td>12.5</td>\n",
       "      <td>7.87</td>\n",
       "      <td>0</td>\n",
       "      <td>0.524</td>\n",
       "      <td>6.377</td>\n",
       "      <td>94.3</td>\n",
       "      <td>6.3467</td>\n",
       "      <td>5</td>\n",
       "      <td>311</td>\n",
       "      <td>15.2</td>\n",
       "      <td>392.52</td>\n",
       "      <td>20.45</td>\n",
       "      <td>15.0</td>\n",
       "    </tr>\n",
       "    <tr>\n",
       "      <th>6</th>\n",
       "      <td>12</td>\n",
       "      <td>0.11747</td>\n",
       "      <td>12.5</td>\n",
       "      <td>7.87</td>\n",
       "      <td>0</td>\n",
       "      <td>0.524</td>\n",
       "      <td>6.009</td>\n",
       "      <td>82.9</td>\n",
       "      <td>6.2267</td>\n",
       "      <td>5</td>\n",
       "      <td>311</td>\n",
       "      <td>15.2</td>\n",
       "      <td>396.90</td>\n",
       "      <td>13.27</td>\n",
       "      <td>18.9</td>\n",
       "    </tr>\n",
       "    <tr>\n",
       "      <th>7</th>\n",
       "      <td>13</td>\n",
       "      <td>0.09378</td>\n",
       "      <td>12.5</td>\n",
       "      <td>7.87</td>\n",
       "      <td>0</td>\n",
       "      <td>0.524</td>\n",
       "      <td>5.889</td>\n",
       "      <td>39.0</td>\n",
       "      <td>5.4509</td>\n",
       "      <td>5</td>\n",
       "      <td>311</td>\n",
       "      <td>15.2</td>\n",
       "      <td>390.50</td>\n",
       "      <td>15.71</td>\n",
       "      <td>21.7</td>\n",
       "    </tr>\n",
       "    <tr>\n",
       "      <th>8</th>\n",
       "      <td>14</td>\n",
       "      <td>0.62976</td>\n",
       "      <td>0.0</td>\n",
       "      <td>8.14</td>\n",
       "      <td>0</td>\n",
       "      <td>0.538</td>\n",
       "      <td>5.949</td>\n",
       "      <td>61.8</td>\n",
       "      <td>4.7075</td>\n",
       "      <td>4</td>\n",
       "      <td>307</td>\n",
       "      <td>21.0</td>\n",
       "      <td>396.90</td>\n",
       "      <td>8.26</td>\n",
       "      <td>20.4</td>\n",
       "    </tr>\n",
       "    <tr>\n",
       "      <th>9</th>\n",
       "      <td>15</td>\n",
       "      <td>0.63796</td>\n",
       "      <td>0.0</td>\n",
       "      <td>8.14</td>\n",
       "      <td>0</td>\n",
       "      <td>0.538</td>\n",
       "      <td>6.096</td>\n",
       "      <td>84.5</td>\n",
       "      <td>4.4619</td>\n",
       "      <td>4</td>\n",
       "      <td>307</td>\n",
       "      <td>21.0</td>\n",
       "      <td>380.02</td>\n",
       "      <td>10.26</td>\n",
       "      <td>18.2</td>\n",
       "    </tr>\n",
       "  </tbody>\n",
       "</table>\n",
       "</div>"
      ],
      "text/plain": [
       "   ID     crim    zn  indus  chas    nox     rm   age     dis  rad  tax  \\\n",
       "0   1  0.00632  18.0   2.31     0  0.538  6.575  65.2  4.0900    1  296   \n",
       "1   2  0.02731   0.0   7.07     0  0.469  6.421  78.9  4.9671    2  242   \n",
       "2   4  0.03237   0.0   2.18     0  0.458  6.998  45.8  6.0622    3  222   \n",
       "3   5  0.06905   0.0   2.18     0  0.458  7.147  54.2  6.0622    3  222   \n",
       "4   7  0.08829  12.5   7.87     0  0.524  6.012  66.6  5.5605    5  311   \n",
       "5  11  0.22489  12.5   7.87     0  0.524  6.377  94.3  6.3467    5  311   \n",
       "6  12  0.11747  12.5   7.87     0  0.524  6.009  82.9  6.2267    5  311   \n",
       "7  13  0.09378  12.5   7.87     0  0.524  5.889  39.0  5.4509    5  311   \n",
       "8  14  0.62976   0.0   8.14     0  0.538  5.949  61.8  4.7075    4  307   \n",
       "9  15  0.63796   0.0   8.14     0  0.538  6.096  84.5  4.4619    4  307   \n",
       "\n",
       "   ptratio   black  lstat  medv  \n",
       "0     15.3  396.90   4.98  24.0  \n",
       "1     17.8  396.90   9.14  21.6  \n",
       "2     18.7  394.63   2.94  33.4  \n",
       "3     18.7  396.90   5.33  36.2  \n",
       "4     15.2  395.60  12.43  22.9  \n",
       "5     15.2  392.52  20.45  15.0  \n",
       "6     15.2  396.90  13.27  18.9  \n",
       "7     15.2  390.50  15.71  21.7  \n",
       "8     21.0  396.90   8.26  20.4  \n",
       "9     21.0  380.02  10.26  18.2  "
      ]
     },
     "execution_count": 2,
     "metadata": {},
     "output_type": "execute_result"
    }
   ],
   "source": [
    "housing = pd.read_csv('homework.csv')\n",
    "housing.head(10)"
   ]
  },
  {
   "cell_type": "code",
   "execution_count": 3,
   "metadata": {},
   "outputs": [
    {
     "data": {
      "text/html": [
       "<div>\n",
       "<style scoped>\n",
       "    .dataframe tbody tr th:only-of-type {\n",
       "        vertical-align: middle;\n",
       "    }\n",
       "\n",
       "    .dataframe tbody tr th {\n",
       "        vertical-align: top;\n",
       "    }\n",
       "\n",
       "    .dataframe thead th {\n",
       "        text-align: right;\n",
       "    }\n",
       "</style>\n",
       "<table border=\"1\" class=\"dataframe\">\n",
       "  <thead>\n",
       "    <tr style=\"text-align: right;\">\n",
       "      <th></th>\n",
       "      <th>ID</th>\n",
       "      <th>crim</th>\n",
       "      <th>zn</th>\n",
       "      <th>indus</th>\n",
       "      <th>chas</th>\n",
       "      <th>nox</th>\n",
       "      <th>rm</th>\n",
       "      <th>age</th>\n",
       "      <th>dis</th>\n",
       "      <th>rad</th>\n",
       "      <th>tax</th>\n",
       "      <th>ptratio</th>\n",
       "      <th>black</th>\n",
       "      <th>lstat</th>\n",
       "      <th>medv</th>\n",
       "    </tr>\n",
       "  </thead>\n",
       "  <tbody>\n",
       "    <tr>\n",
       "      <th>count</th>\n",
       "      <td>333.000000</td>\n",
       "      <td>333.000000</td>\n",
       "      <td>333.000000</td>\n",
       "      <td>333.000000</td>\n",
       "      <td>333.000000</td>\n",
       "      <td>333.000000</td>\n",
       "      <td>333.000000</td>\n",
       "      <td>333.000000</td>\n",
       "      <td>333.000000</td>\n",
       "      <td>333.000000</td>\n",
       "      <td>333.000000</td>\n",
       "      <td>333.000000</td>\n",
       "      <td>333.000000</td>\n",
       "      <td>333.000000</td>\n",
       "      <td>333.000000</td>\n",
       "    </tr>\n",
       "    <tr>\n",
       "      <th>mean</th>\n",
       "      <td>250.951952</td>\n",
       "      <td>3.360341</td>\n",
       "      <td>10.689189</td>\n",
       "      <td>11.293483</td>\n",
       "      <td>0.060060</td>\n",
       "      <td>0.557144</td>\n",
       "      <td>6.265619</td>\n",
       "      <td>68.226426</td>\n",
       "      <td>3.709934</td>\n",
       "      <td>9.633634</td>\n",
       "      <td>409.279279</td>\n",
       "      <td>18.448048</td>\n",
       "      <td>359.466096</td>\n",
       "      <td>12.515435</td>\n",
       "      <td>22.768769</td>\n",
       "    </tr>\n",
       "    <tr>\n",
       "      <th>std</th>\n",
       "      <td>147.859438</td>\n",
       "      <td>7.352272</td>\n",
       "      <td>22.674762</td>\n",
       "      <td>6.998123</td>\n",
       "      <td>0.237956</td>\n",
       "      <td>0.114955</td>\n",
       "      <td>0.703952</td>\n",
       "      <td>28.133344</td>\n",
       "      <td>1.981123</td>\n",
       "      <td>8.742174</td>\n",
       "      <td>170.841988</td>\n",
       "      <td>2.151821</td>\n",
       "      <td>86.584567</td>\n",
       "      <td>7.067781</td>\n",
       "      <td>9.173468</td>\n",
       "    </tr>\n",
       "    <tr>\n",
       "      <th>min</th>\n",
       "      <td>1.000000</td>\n",
       "      <td>0.006320</td>\n",
       "      <td>0.000000</td>\n",
       "      <td>0.740000</td>\n",
       "      <td>0.000000</td>\n",
       "      <td>0.385000</td>\n",
       "      <td>3.561000</td>\n",
       "      <td>6.000000</td>\n",
       "      <td>1.129600</td>\n",
       "      <td>1.000000</td>\n",
       "      <td>188.000000</td>\n",
       "      <td>12.600000</td>\n",
       "      <td>3.500000</td>\n",
       "      <td>1.730000</td>\n",
       "      <td>5.000000</td>\n",
       "    </tr>\n",
       "    <tr>\n",
       "      <th>25%</th>\n",
       "      <td>123.000000</td>\n",
       "      <td>0.078960</td>\n",
       "      <td>0.000000</td>\n",
       "      <td>5.130000</td>\n",
       "      <td>0.000000</td>\n",
       "      <td>0.453000</td>\n",
       "      <td>5.884000</td>\n",
       "      <td>45.400000</td>\n",
       "      <td>2.122400</td>\n",
       "      <td>4.000000</td>\n",
       "      <td>279.000000</td>\n",
       "      <td>17.400000</td>\n",
       "      <td>376.730000</td>\n",
       "      <td>7.180000</td>\n",
       "      <td>17.400000</td>\n",
       "    </tr>\n",
       "    <tr>\n",
       "      <th>50%</th>\n",
       "      <td>244.000000</td>\n",
       "      <td>0.261690</td>\n",
       "      <td>0.000000</td>\n",
       "      <td>9.900000</td>\n",
       "      <td>0.000000</td>\n",
       "      <td>0.538000</td>\n",
       "      <td>6.202000</td>\n",
       "      <td>76.700000</td>\n",
       "      <td>3.092300</td>\n",
       "      <td>5.000000</td>\n",
       "      <td>330.000000</td>\n",
       "      <td>19.000000</td>\n",
       "      <td>392.050000</td>\n",
       "      <td>10.970000</td>\n",
       "      <td>21.600000</td>\n",
       "    </tr>\n",
       "    <tr>\n",
       "      <th>75%</th>\n",
       "      <td>377.000000</td>\n",
       "      <td>3.678220</td>\n",
       "      <td>12.500000</td>\n",
       "      <td>18.100000</td>\n",
       "      <td>0.000000</td>\n",
       "      <td>0.631000</td>\n",
       "      <td>6.595000</td>\n",
       "      <td>93.800000</td>\n",
       "      <td>5.116700</td>\n",
       "      <td>24.000000</td>\n",
       "      <td>666.000000</td>\n",
       "      <td>20.200000</td>\n",
       "      <td>396.240000</td>\n",
       "      <td>16.420000</td>\n",
       "      <td>25.000000</td>\n",
       "    </tr>\n",
       "    <tr>\n",
       "      <th>max</th>\n",
       "      <td>506.000000</td>\n",
       "      <td>73.534100</td>\n",
       "      <td>100.000000</td>\n",
       "      <td>27.740000</td>\n",
       "      <td>1.000000</td>\n",
       "      <td>0.871000</td>\n",
       "      <td>8.725000</td>\n",
       "      <td>100.000000</td>\n",
       "      <td>10.710300</td>\n",
       "      <td>24.000000</td>\n",
       "      <td>711.000000</td>\n",
       "      <td>21.200000</td>\n",
       "      <td>396.900000</td>\n",
       "      <td>37.970000</td>\n",
       "      <td>50.000000</td>\n",
       "    </tr>\n",
       "  </tbody>\n",
       "</table>\n",
       "</div>"
      ],
      "text/plain": [
       "               ID        crim          zn       indus        chas         nox  \\\n",
       "count  333.000000  333.000000  333.000000  333.000000  333.000000  333.000000   \n",
       "mean   250.951952    3.360341   10.689189   11.293483    0.060060    0.557144   \n",
       "std    147.859438    7.352272   22.674762    6.998123    0.237956    0.114955   \n",
       "min      1.000000    0.006320    0.000000    0.740000    0.000000    0.385000   \n",
       "25%    123.000000    0.078960    0.000000    5.130000    0.000000    0.453000   \n",
       "50%    244.000000    0.261690    0.000000    9.900000    0.000000    0.538000   \n",
       "75%    377.000000    3.678220   12.500000   18.100000    0.000000    0.631000   \n",
       "max    506.000000   73.534100  100.000000   27.740000    1.000000    0.871000   \n",
       "\n",
       "               rm         age         dis         rad         tax     ptratio  \\\n",
       "count  333.000000  333.000000  333.000000  333.000000  333.000000  333.000000   \n",
       "mean     6.265619   68.226426    3.709934    9.633634  409.279279   18.448048   \n",
       "std      0.703952   28.133344    1.981123    8.742174  170.841988    2.151821   \n",
       "min      3.561000    6.000000    1.129600    1.000000  188.000000   12.600000   \n",
       "25%      5.884000   45.400000    2.122400    4.000000  279.000000   17.400000   \n",
       "50%      6.202000   76.700000    3.092300    5.000000  330.000000   19.000000   \n",
       "75%      6.595000   93.800000    5.116700   24.000000  666.000000   20.200000   \n",
       "max      8.725000  100.000000   10.710300   24.000000  711.000000   21.200000   \n",
       "\n",
       "            black       lstat        medv  \n",
       "count  333.000000  333.000000  333.000000  \n",
       "mean   359.466096   12.515435   22.768769  \n",
       "std     86.584567    7.067781    9.173468  \n",
       "min      3.500000    1.730000    5.000000  \n",
       "25%    376.730000    7.180000   17.400000  \n",
       "50%    392.050000   10.970000   21.600000  \n",
       "75%    396.240000   16.420000   25.000000  \n",
       "max    396.900000   37.970000   50.000000  "
      ]
     },
     "execution_count": 3,
     "metadata": {},
     "output_type": "execute_result"
    }
   ],
   "source": [
    "housing.describe()"
   ]
  },
  {
   "cell_type": "code",
   "execution_count": 4,
   "metadata": {},
   "outputs": [
    {
     "data": {
      "text/html": [
       "<div>\n",
       "<style scoped>\n",
       "    .dataframe tbody tr th:only-of-type {\n",
       "        vertical-align: middle;\n",
       "    }\n",
       "\n",
       "    .dataframe tbody tr th {\n",
       "        vertical-align: top;\n",
       "    }\n",
       "\n",
       "    .dataframe thead th {\n",
       "        text-align: right;\n",
       "    }\n",
       "</style>\n",
       "<table border=\"1\" class=\"dataframe\">\n",
       "  <thead>\n",
       "    <tr style=\"text-align: right;\">\n",
       "      <th></th>\n",
       "      <th>ID</th>\n",
       "      <th>crim</th>\n",
       "      <th>zn</th>\n",
       "      <th>indus</th>\n",
       "      <th>chas</th>\n",
       "      <th>nox</th>\n",
       "      <th>rm</th>\n",
       "      <th>age</th>\n",
       "      <th>dis</th>\n",
       "      <th>rad</th>\n",
       "      <th>tax</th>\n",
       "      <th>ptratio</th>\n",
       "      <th>black</th>\n",
       "      <th>lstat</th>\n",
       "      <th>medv</th>\n",
       "    </tr>\n",
       "  </thead>\n",
       "  <tbody>\n",
       "    <tr>\n",
       "      <th>ID</th>\n",
       "      <td>1.000000</td>\n",
       "      <td>0.456312</td>\n",
       "      <td>-0.155639</td>\n",
       "      <td>0.421978</td>\n",
       "      <td>0.007958</td>\n",
       "      <td>0.440185</td>\n",
       "      <td>-0.112790</td>\n",
       "      <td>0.257300</td>\n",
       "      <td>-0.356461</td>\n",
       "      <td>0.707526</td>\n",
       "      <td>0.686246</td>\n",
       "      <td>0.309838</td>\n",
       "      <td>-0.271619</td>\n",
       "      <td>0.281953</td>\n",
       "      <td>-0.221694</td>\n",
       "    </tr>\n",
       "    <tr>\n",
       "      <th>crim</th>\n",
       "      <td>0.456312</td>\n",
       "      <td>1.000000</td>\n",
       "      <td>-0.210913</td>\n",
       "      <td>0.422228</td>\n",
       "      <td>-0.041195</td>\n",
       "      <td>0.463001</td>\n",
       "      <td>-0.310180</td>\n",
       "      <td>0.379034</td>\n",
       "      <td>-0.397067</td>\n",
       "      <td>0.666636</td>\n",
       "      <td>0.617081</td>\n",
       "      <td>0.313409</td>\n",
       "      <td>-0.475796</td>\n",
       "      <td>0.532077</td>\n",
       "      <td>-0.407454</td>\n",
       "    </tr>\n",
       "    <tr>\n",
       "      <th>zn</th>\n",
       "      <td>-0.155639</td>\n",
       "      <td>-0.210913</td>\n",
       "      <td>1.000000</td>\n",
       "      <td>-0.518679</td>\n",
       "      <td>-0.024442</td>\n",
       "      <td>-0.501990</td>\n",
       "      <td>0.328197</td>\n",
       "      <td>-0.544513</td>\n",
       "      <td>0.637142</td>\n",
       "      <td>-0.303663</td>\n",
       "      <td>-0.311180</td>\n",
       "      <td>-0.380449</td>\n",
       "      <td>0.168130</td>\n",
       "      <td>-0.388112</td>\n",
       "      <td>0.344842</td>\n",
       "    </tr>\n",
       "    <tr>\n",
       "      <th>indus</th>\n",
       "      <td>0.421978</td>\n",
       "      <td>0.422228</td>\n",
       "      <td>-0.518679</td>\n",
       "      <td>1.000000</td>\n",
       "      <td>0.037496</td>\n",
       "      <td>0.750087</td>\n",
       "      <td>-0.440365</td>\n",
       "      <td>0.638378</td>\n",
       "      <td>-0.702327</td>\n",
       "      <td>0.569779</td>\n",
       "      <td>0.708313</td>\n",
       "      <td>0.391087</td>\n",
       "      <td>-0.335049</td>\n",
       "      <td>0.614155</td>\n",
       "      <td>-0.473932</td>\n",
       "    </tr>\n",
       "    <tr>\n",
       "      <th>chas</th>\n",
       "      <td>0.007958</td>\n",
       "      <td>-0.041195</td>\n",
       "      <td>-0.024442</td>\n",
       "      <td>0.037496</td>\n",
       "      <td>1.000000</td>\n",
       "      <td>0.080275</td>\n",
       "      <td>0.112251</td>\n",
       "      <td>0.068286</td>\n",
       "      <td>-0.081834</td>\n",
       "      <td>0.007714</td>\n",
       "      <td>-0.021826</td>\n",
       "      <td>-0.125067</td>\n",
       "      <td>0.062029</td>\n",
       "      <td>-0.050055</td>\n",
       "      <td>0.204390</td>\n",
       "    </tr>\n",
       "    <tr>\n",
       "      <th>nox</th>\n",
       "      <td>0.440185</td>\n",
       "      <td>0.463001</td>\n",
       "      <td>-0.501990</td>\n",
       "      <td>0.750087</td>\n",
       "      <td>0.080275</td>\n",
       "      <td>1.000000</td>\n",
       "      <td>-0.338515</td>\n",
       "      <td>0.736000</td>\n",
       "      <td>-0.769364</td>\n",
       "      <td>0.612180</td>\n",
       "      <td>0.670722</td>\n",
       "      <td>0.192513</td>\n",
       "      <td>-0.369416</td>\n",
       "      <td>0.598874</td>\n",
       "      <td>-0.413054</td>\n",
       "    </tr>\n",
       "    <tr>\n",
       "      <th>rm</th>\n",
       "      <td>-0.112790</td>\n",
       "      <td>-0.310180</td>\n",
       "      <td>0.328197</td>\n",
       "      <td>-0.440365</td>\n",
       "      <td>0.112251</td>\n",
       "      <td>-0.338515</td>\n",
       "      <td>1.000000</td>\n",
       "      <td>-0.248573</td>\n",
       "      <td>0.269191</td>\n",
       "      <td>-0.272783</td>\n",
       "      <td>-0.356987</td>\n",
       "      <td>-0.366927</td>\n",
       "      <td>0.155202</td>\n",
       "      <td>-0.615747</td>\n",
       "      <td>0.689598</td>\n",
       "    </tr>\n",
       "    <tr>\n",
       "      <th>age</th>\n",
       "      <td>0.257300</td>\n",
       "      <td>0.379034</td>\n",
       "      <td>-0.544513</td>\n",
       "      <td>0.638378</td>\n",
       "      <td>0.068286</td>\n",
       "      <td>0.736000</td>\n",
       "      <td>-0.248573</td>\n",
       "      <td>1.000000</td>\n",
       "      <td>-0.764208</td>\n",
       "      <td>0.447380</td>\n",
       "      <td>0.511893</td>\n",
       "      <td>0.259293</td>\n",
       "      <td>-0.268054</td>\n",
       "      <td>0.588834</td>\n",
       "      <td>-0.358888</td>\n",
       "    </tr>\n",
       "    <tr>\n",
       "      <th>dis</th>\n",
       "      <td>-0.356461</td>\n",
       "      <td>-0.397067</td>\n",
       "      <td>0.637142</td>\n",
       "      <td>-0.702327</td>\n",
       "      <td>-0.081834</td>\n",
       "      <td>-0.769364</td>\n",
       "      <td>0.269191</td>\n",
       "      <td>-0.764208</td>\n",
       "      <td>1.000000</td>\n",
       "      <td>-0.477610</td>\n",
       "      <td>-0.529539</td>\n",
       "      <td>-0.231101</td>\n",
       "      <td>0.284374</td>\n",
       "      <td>-0.505939</td>\n",
       "      <td>0.249422</td>\n",
       "    </tr>\n",
       "    <tr>\n",
       "      <th>rad</th>\n",
       "      <td>0.707526</td>\n",
       "      <td>0.666636</td>\n",
       "      <td>-0.303663</td>\n",
       "      <td>0.569779</td>\n",
       "      <td>0.007714</td>\n",
       "      <td>0.612180</td>\n",
       "      <td>-0.272783</td>\n",
       "      <td>0.447380</td>\n",
       "      <td>-0.477610</td>\n",
       "      <td>1.000000</td>\n",
       "      <td>0.903562</td>\n",
       "      <td>0.470849</td>\n",
       "      <td>-0.406405</td>\n",
       "      <td>0.484568</td>\n",
       "      <td>-0.352251</td>\n",
       "    </tr>\n",
       "    <tr>\n",
       "      <th>tax</th>\n",
       "      <td>0.686246</td>\n",
       "      <td>0.617081</td>\n",
       "      <td>-0.311180</td>\n",
       "      <td>0.708313</td>\n",
       "      <td>-0.021826</td>\n",
       "      <td>0.670722</td>\n",
       "      <td>-0.356987</td>\n",
       "      <td>0.511893</td>\n",
       "      <td>-0.529539</td>\n",
       "      <td>0.903562</td>\n",
       "      <td>1.000000</td>\n",
       "      <td>0.467437</td>\n",
       "      <td>-0.406477</td>\n",
       "      <td>0.544485</td>\n",
       "      <td>-0.448078</td>\n",
       "    </tr>\n",
       "    <tr>\n",
       "      <th>ptratio</th>\n",
       "      <td>0.309838</td>\n",
       "      <td>0.313409</td>\n",
       "      <td>-0.380449</td>\n",
       "      <td>0.391087</td>\n",
       "      <td>-0.125067</td>\n",
       "      <td>0.192513</td>\n",
       "      <td>-0.366927</td>\n",
       "      <td>0.259293</td>\n",
       "      <td>-0.231101</td>\n",
       "      <td>0.470849</td>\n",
       "      <td>0.467437</td>\n",
       "      <td>1.000000</td>\n",
       "      <td>-0.164614</td>\n",
       "      <td>0.374802</td>\n",
       "      <td>-0.481376</td>\n",
       "    </tr>\n",
       "    <tr>\n",
       "      <th>black</th>\n",
       "      <td>-0.271619</td>\n",
       "      <td>-0.475796</td>\n",
       "      <td>0.168130</td>\n",
       "      <td>-0.335049</td>\n",
       "      <td>0.062029</td>\n",
       "      <td>-0.369416</td>\n",
       "      <td>0.155202</td>\n",
       "      <td>-0.268054</td>\n",
       "      <td>0.284374</td>\n",
       "      <td>-0.406405</td>\n",
       "      <td>-0.406477</td>\n",
       "      <td>-0.164614</td>\n",
       "      <td>1.000000</td>\n",
       "      <td>-0.356693</td>\n",
       "      <td>0.336660</td>\n",
       "    </tr>\n",
       "    <tr>\n",
       "      <th>lstat</th>\n",
       "      <td>0.281953</td>\n",
       "      <td>0.532077</td>\n",
       "      <td>-0.388112</td>\n",
       "      <td>0.614155</td>\n",
       "      <td>-0.050055</td>\n",
       "      <td>0.598874</td>\n",
       "      <td>-0.615747</td>\n",
       "      <td>0.588834</td>\n",
       "      <td>-0.505939</td>\n",
       "      <td>0.484568</td>\n",
       "      <td>0.544485</td>\n",
       "      <td>0.374802</td>\n",
       "      <td>-0.356693</td>\n",
       "      <td>1.000000</td>\n",
       "      <td>-0.738600</td>\n",
       "    </tr>\n",
       "    <tr>\n",
       "      <th>medv</th>\n",
       "      <td>-0.221694</td>\n",
       "      <td>-0.407454</td>\n",
       "      <td>0.344842</td>\n",
       "      <td>-0.473932</td>\n",
       "      <td>0.204390</td>\n",
       "      <td>-0.413054</td>\n",
       "      <td>0.689598</td>\n",
       "      <td>-0.358888</td>\n",
       "      <td>0.249422</td>\n",
       "      <td>-0.352251</td>\n",
       "      <td>-0.448078</td>\n",
       "      <td>-0.481376</td>\n",
       "      <td>0.336660</td>\n",
       "      <td>-0.738600</td>\n",
       "      <td>1.000000</td>\n",
       "    </tr>\n",
       "  </tbody>\n",
       "</table>\n",
       "</div>"
      ],
      "text/plain": [
       "               ID      crim        zn     indus      chas       nox        rm  \\\n",
       "ID       1.000000  0.456312 -0.155639  0.421978  0.007958  0.440185 -0.112790   \n",
       "crim     0.456312  1.000000 -0.210913  0.422228 -0.041195  0.463001 -0.310180   \n",
       "zn      -0.155639 -0.210913  1.000000 -0.518679 -0.024442 -0.501990  0.328197   \n",
       "indus    0.421978  0.422228 -0.518679  1.000000  0.037496  0.750087 -0.440365   \n",
       "chas     0.007958 -0.041195 -0.024442  0.037496  1.000000  0.080275  0.112251   \n",
       "nox      0.440185  0.463001 -0.501990  0.750087  0.080275  1.000000 -0.338515   \n",
       "rm      -0.112790 -0.310180  0.328197 -0.440365  0.112251 -0.338515  1.000000   \n",
       "age      0.257300  0.379034 -0.544513  0.638378  0.068286  0.736000 -0.248573   \n",
       "dis     -0.356461 -0.397067  0.637142 -0.702327 -0.081834 -0.769364  0.269191   \n",
       "rad      0.707526  0.666636 -0.303663  0.569779  0.007714  0.612180 -0.272783   \n",
       "tax      0.686246  0.617081 -0.311180  0.708313 -0.021826  0.670722 -0.356987   \n",
       "ptratio  0.309838  0.313409 -0.380449  0.391087 -0.125067  0.192513 -0.366927   \n",
       "black   -0.271619 -0.475796  0.168130 -0.335049  0.062029 -0.369416  0.155202   \n",
       "lstat    0.281953  0.532077 -0.388112  0.614155 -0.050055  0.598874 -0.615747   \n",
       "medv    -0.221694 -0.407454  0.344842 -0.473932  0.204390 -0.413054  0.689598   \n",
       "\n",
       "              age       dis       rad       tax   ptratio     black     lstat  \\\n",
       "ID       0.257300 -0.356461  0.707526  0.686246  0.309838 -0.271619  0.281953   \n",
       "crim     0.379034 -0.397067  0.666636  0.617081  0.313409 -0.475796  0.532077   \n",
       "zn      -0.544513  0.637142 -0.303663 -0.311180 -0.380449  0.168130 -0.388112   \n",
       "indus    0.638378 -0.702327  0.569779  0.708313  0.391087 -0.335049  0.614155   \n",
       "chas     0.068286 -0.081834  0.007714 -0.021826 -0.125067  0.062029 -0.050055   \n",
       "nox      0.736000 -0.769364  0.612180  0.670722  0.192513 -0.369416  0.598874   \n",
       "rm      -0.248573  0.269191 -0.272783 -0.356987 -0.366927  0.155202 -0.615747   \n",
       "age      1.000000 -0.764208  0.447380  0.511893  0.259293 -0.268054  0.588834   \n",
       "dis     -0.764208  1.000000 -0.477610 -0.529539 -0.231101  0.284374 -0.505939   \n",
       "rad      0.447380 -0.477610  1.000000  0.903562  0.470849 -0.406405  0.484568   \n",
       "tax      0.511893 -0.529539  0.903562  1.000000  0.467437 -0.406477  0.544485   \n",
       "ptratio  0.259293 -0.231101  0.470849  0.467437  1.000000 -0.164614  0.374802   \n",
       "black   -0.268054  0.284374 -0.406405 -0.406477 -0.164614  1.000000 -0.356693   \n",
       "lstat    0.588834 -0.505939  0.484568  0.544485  0.374802 -0.356693  1.000000   \n",
       "medv    -0.358888  0.249422 -0.352251 -0.448078 -0.481376  0.336660 -0.738600   \n",
       "\n",
       "             medv  \n",
       "ID      -0.221694  \n",
       "crim    -0.407454  \n",
       "zn       0.344842  \n",
       "indus   -0.473932  \n",
       "chas     0.204390  \n",
       "nox     -0.413054  \n",
       "rm       0.689598  \n",
       "age     -0.358888  \n",
       "dis      0.249422  \n",
       "rad     -0.352251  \n",
       "tax     -0.448078  \n",
       "ptratio -0.481376  \n",
       "black    0.336660  \n",
       "lstat   -0.738600  \n",
       "medv     1.000000  "
      ]
     },
     "execution_count": 4,
     "metadata": {},
     "output_type": "execute_result"
    }
   ],
   "source": [
    "# Определяем коэф-ты корреляции для всей таблицы, смотрим на зависимость medv от других параметров\n",
    "housing.corr()"
   ]
  },
  {
   "cell_type": "code",
   "execution_count": 5,
   "metadata": {},
   "outputs": [
    {
     "data": {
      "text/plain": [
       "<AxesSubplot:xlabel='crim', ylabel='medv'>"
      ]
     },
     "execution_count": 5,
     "metadata": {},
     "output_type": "execute_result"
    },
    {
     "data": {
      "image/png": "[encoded data removed]",
      "text/plain": [
       "<Figure size 432x288 with 1 Axes>"
      ]
     },
     "metadata": {
      "needs_background": "light"
     },
     "output_type": "display_data"
    }
   ],
   "source": [
    "# Визуализация - график зависимости medv (median value of owner-occupied homes in \\$1000s) от crim (per capita crime rate by town).\n",
    "housing.plot(kind='scatter', x='crim', y='medv')"
   ]
  },
  {
   "cell_type": "code",
   "execution_count": 6,
   "metadata": {
    "scrolled": true
   },
   "outputs": [
    {
     "data": {
      "text/plain": [
       "<AxesSubplot:xlabel='indus', ylabel='medv'>"
      ]
     },
     "execution_count": 6,
     "metadata": {},
     "output_type": "execute_result"
    },
    {
     "data": {
      "image/png": "[encoded data removed]",
      "text/plain": [
       "<Figure size 432x288 with 1 Axes>"
      ]
     },
     "metadata": {
      "needs_background": "light"
     },
     "output_type": "display_data"
    }
   ],
   "source": [
    "# Визуализация - график зависимости medv (median value of owner-occupied homes in \\$1000s) от indus (proportion of non-retail business acres per town).\n",
    "housing.plot(kind='scatter', x='indus', y='medv')"
   ]
  },
  {
   "cell_type": "code",
   "execution_count": 7,
   "metadata": {},
   "outputs": [
    {
     "data": {
      "text/plain": [
       "<AxesSubplot:xlabel='rm', ylabel='medv'>"
      ]
     },
     "execution_count": 7,
     "metadata": {},
     "output_type": "execute_result"
    },
    {
     "data": {
      "image/png": "[encoded data removed]",
      "text/plain": [
       "<Figure size 432x288 with 1 Axes>"
      ]
     },
     "metadata": {
      "needs_background": "light"
     },
     "output_type": "display_data"
    }
   ],
   "source": [
    "# Визуализация - график зависимости medv (verage number of rooms per dwelling) от rm (average number of rooms per dwelling).\n",
    "housing.plot(kind='scatter', x='rm', y='medv')"
   ]
  },
  {
   "cell_type": "code",
   "execution_count": 8,
   "metadata": {
    "scrolled": true
   },
   "outputs": [
    {
     "data": {
      "text/plain": [
       "<AxesSubplot:xlabel='tax', ylabel='medv'>"
      ]
     },
     "execution_count": 8,
     "metadata": {},
     "output_type": "execute_result"
    },
    {
     "data": {
      "image/png": "[encoded data removed]",
      "text/plain": [
       "<Figure size 432x288 with 1 Axes>"
      ]
     },
     "metadata": {
      "needs_background": "light"
     },
     "output_type": "display_data"
    }
   ],
   "source": [
    "# Визуализация - график зависимости medv (verage number of rooms per dwelling) от tax (full-value property-tax rate per \\$10,000).\n",
    "housing.plot(kind='scatter', x='tax', y='medv')"
   ]
  },
  {
   "cell_type": "code",
   "execution_count": 9,
   "metadata": {},
   "outputs": [
    {
     "data": {
      "text/plain": [
       "<AxesSubplot:xlabel='nox', ylabel='medv'>"
      ]
     },
     "execution_count": 9,
     "metadata": {},
     "output_type": "execute_result"
    },
    {
     "data": {
      "image/png": "[encoded data removed]",
      "text/plain": [
       "<Figure size 432x288 with 1 Axes>"
      ]
     },
     "metadata": {
      "needs_background": "light"
     },
     "output_type": "display_data"
    }
   ],
   "source": [
    "# Визуализация - график зависимости medv (median value of owner-occupied homes in \\$1000s) от nox (nitrogen oxides concentration (parts per 10 million).\n",
    "housing.plot(kind='scatter', x='nox', y='medv')"
   ]
  },
  {
   "cell_type": "code",
   "execution_count": 10,
   "metadata": {},
   "outputs": [
    {
     "data": {
      "text/plain": [
       "<AxesSubplot:xlabel='ptratio', ylabel='medv'>"
      ]
     },
     "execution_count": 10,
     "metadata": {},
     "output_type": "execute_result"
    },
    {
     "data": {
      "image/png": "[encoded data removed]",
      "text/plain": [
       "<Figure size 432x288 with 1 Axes>"
      ]
     },
     "metadata": {
      "needs_background": "light"
     },
     "output_type": "display_data"
    }
   ],
   "source": [
    "# Визуализация - график зависимости medv (median value of owner-occupied homes in \\$1000s) от ptratio (pupil-teacher ratio by town).\n",
    "housing.plot(kind='scatter', x='ptratio', y='medv')"
   ]
  },
  {
   "cell_type": "code",
   "execution_count": 11,
   "metadata": {},
   "outputs": [
    {
     "data": {
      "text/plain": [
       "<AxesSubplot:xlabel='lstat', ylabel='medv'>"
      ]
     },
     "execution_count": 11,
     "metadata": {},
     "output_type": "execute_result"
    },
    {
     "data": {
      "image/png": "[encoded data removed]",
      "text/plain": [
       "<Figure size 432x288 with 1 Axes>"
      ]
     },
     "metadata": {
      "needs_background": "light"
     },
     "output_type": "display_data"
    }
   ],
   "source": [
    "# Визуализация - график зависимости medv (median value of owner-occupied homes in \\$1000s) от lstat (lower status of the population (percent)).\n",
    "housing.plot(kind='scatter', x='lstat', y='medv')"
   ]
  },
  {
   "cell_type": "code",
   "execution_count": 12,
   "metadata": {},
   "outputs": [
    {
     "ename": "SyntaxError",
     "evalue": "invalid syntax (<ipython-input-12-def74e971cb4>, line 1)",
     "output_type": "error",
     "traceback": [
      "\u001b[1;36m  File \u001b[1;32m\"<ipython-input-12-def74e971cb4>\"\u001b[1;36m, line \u001b[1;32m1\u001b[0m\n\u001b[1;33m    Визуально видна корреляция medv и lstat, rm, crim\u001b[0m\n\u001b[1;37m              ^\u001b[0m\n\u001b[1;31mSyntaxError\u001b[0m\u001b[1;31m:\u001b[0m invalid syntax\n"
     ]
    }
   ],
   "source": [
    "Визуально видна корреляция medv и lstat, rm, crim"
   ]
  },
  {
   "cell_type": "code",
   "execution_count": 13,
   "metadata": {},
   "outputs": [],
   "source": [
    "from sklearn.linear_model import LinearRegression\n",
    "from sklearn.model_selection import train_test_split"
   ]
  },
  {
   "cell_type": "code",
   "execution_count": 14,
   "metadata": {},
   "outputs": [],
   "source": [
    "X = housing[['ID', 'crim', 'zn', 'indus', 'chas', 'nox', 'rm', 'age', 'dis', 'rad', 'tax', 'ptratio', 'black', 'lstat']]\n",
    "y = housing['medv']"
   ]
  },
  {
   "cell_type": "code",
   "execution_count": 15,
   "metadata": {},
   "outputs": [],
   "source": [
    "X_train, X_test, y_train, y_test = train_test_split(X, y, test_size=0.30, random_state=42)"
   ]
  },
  {
   "cell_type": "code",
   "execution_count": 16,
   "metadata": {},
   "outputs": [
    {
     "data": {
      "text/plain": [
       "(233, 14)"
      ]
     },
     "execution_count": 16,
     "metadata": {},
     "output_type": "execute_result"
    }
   ],
   "source": [
    "X_train.shape"
   ]
  },
  {
   "cell_type": "code",
   "execution_count": 17,
   "metadata": {
    "scrolled": true
   },
   "outputs": [
    {
     "data": {
      "text/plain": [
       "(233,)"
      ]
     },
     "execution_count": 17,
     "metadata": {},
     "output_type": "execute_result"
    }
   ],
   "source": [
    "y_train.shape"
   ]
  },
  {
   "cell_type": "code",
   "execution_count": 18,
   "metadata": {},
   "outputs": [
    {
     "data": {
      "text/plain": [
       "LinearRegression()"
      ]
     },
     "execution_count": 18,
     "metadata": {},
     "output_type": "execute_result"
    }
   ],
   "source": [
    "#Строим модель линейной регрессии и определяем коэффициенты\n",
    "model = LinearRegression()\n",
    "model.fit(X_train, y_train) # метод обучается на данных и подбирает оптимальные коэффициенты"
   ]
  },
  {
   "cell_type": "code",
   "execution_count": 19,
   "metadata": {},
   "outputs": [
    {
     "data": {
      "text/plain": [
       "array([-5.61185331e-03, -7.26794079e-02,  6.31545878e-02, -3.06790943e-02,\n",
       "        4.83220594e+00, -1.59075467e+01,  3.71473516e+00, -1.88659445e-02,\n",
       "       -1.95186020e+00,  4.46080018e-01, -1.39974924e-02, -7.38758857e-01,\n",
       "        8.36024306e-03, -5.91570824e-01])"
      ]
     },
     "execution_count": 19,
     "metadata": {},
     "output_type": "execute_result"
    }
   ],
   "source": [
    "model.coef_"
   ]
  },
  {
   "cell_type": "code",
   "execution_count": 20,
   "metadata": {},
   "outputs": [
    {
     "data": {
      "text/plain": [
       "37.42162316924334"
      ]
     },
     "execution_count": 20,
     "metadata": {},
     "output_type": "execute_result"
    }
   ],
   "source": [
    "model.intercept_"
   ]
  },
  {
   "cell_type": "markdown",
   "metadata": {},
   "source": [
    "Получили уравнение линейной регрессии: \n",
    "medv = -5.61185331e-03*ID - 7.26794079e-02*crim + 6.31545878e-02*zn - \n",
    "3.06790943e-02*indus + 4.83220594e+00*chas - 1.59075467e+01*nox + 3.71473516e+00*rm - 1.88659445e-02*age - \n",
    "1.95186020e+00*dis + 4.46080018e-01*rad - 1.39974924e-02*tax - 7.38758857e-01*ptratio + 8.36024306e-03*black - \n",
    "5.91570824e-01*lstat + 37.42162316924334"
   ]
  },
  {
   "cell_type": "code",
   "execution_count": 21,
   "metadata": {},
   "outputs": [
    {
     "data": {
      "text/plain": [
       "0.7247077336757703"
      ]
     },
     "execution_count": 21,
     "metadata": {},
     "output_type": "execute_result"
    }
   ],
   "source": [
    "model.score(X_test, y_test) # метод возвращает значение коэффициента детерминации\n",
    "# Коэф-т детерминации высокий - 0,72, зависимость выше средней"
   ]
  },
  {
   "cell_type": "code",
   "execution_count": 22,
   "metadata": {},
   "outputs": [
    {
     "data": {
      "text/plain": [
       "array([25.3572757 , 22.99195651, 23.19575229, 33.04593648, 25.00094785,\n",
       "       13.93784403, 17.33108776, 30.40402105, 15.61546767, 24.93563349,\n",
       "       26.73264537, 19.90563587, 20.11610929, 34.80759143, 21.72339348,\n",
       "       34.73691434, 22.17638475, 17.46699532, 25.54416138, 16.87229981,\n",
       "       36.27765068, 31.45469644, 22.9438725 , 28.10762614, 16.9099023 ,\n",
       "       43.13097101,  7.9609421 , -0.28740559, 31.74445245,  8.68720804,\n",
       "       18.90854096, 20.50799535, 27.60872404, 15.02832019, 19.4411046 ,\n",
       "       12.28866924, 27.67513751,  4.53686853, 17.09151328, 22.61695511,\n",
       "       24.16369378, 21.8636199 , 25.07732976, 39.34302427, 36.38778341,\n",
       "       21.6029007 , 10.99319165, 21.39445886, 13.93002625, 20.61159022,\n",
       "       13.34422772, 28.09255404, 21.39952059, 13.63219159, 34.30235638,\n",
       "        1.37381963, 20.67433794, 27.18064381, 25.32062007, 28.34424623,\n",
       "       17.91543605, 23.98949165, 18.11567426, 28.31123374, 23.63782384,\n",
       "       16.61985196, 26.518375  , 20.86973471, 23.87015396, 16.63343399,\n",
       "       14.79455328, 26.07782548, 21.2943287 , 13.04363898, 24.43677309,\n",
       "       33.67184529, 21.99622717, 23.54167876, 22.96781508, 16.69482684,\n",
       "       21.09071622, 28.81736953, 40.42955219, 15.41822818, 11.73813647,\n",
       "       10.69403601, 20.60835421, 20.73654201, 38.90664661, 14.30419153,\n",
       "       23.0965025 , 20.9943719 , 24.78584533, 22.41817855, 29.06571941,\n",
       "       15.93565935, 20.2784665 , 22.14133552, 19.20096093, 16.13217664])"
      ]
     },
     "execution_count": 22,
     "metadata": {},
     "output_type": "execute_result"
    }
   ],
   "source": [
    "y_pred = model.predict(X_test)\n",
    "y_pred"
   ]
  },
  {
   "cell_type": "code",
   "execution_count": 23,
   "metadata": {},
   "outputs": [
    {
     "data": {
      "text/plain": [
       "[<matplotlib.lines.Line2D at 0x1e1b2d94910>]"
      ]
     },
     "execution_count": 23,
     "metadata": {},
     "output_type": "execute_result"
    },
    {
     "data": {
      "image/png": "[encoded data removed]",
      "text/plain": [
       "<Figure size 432x288 with 1 Axes>"
      ]
     },
     "metadata": {
      "needs_background": "light"
     },
     "output_type": "display_data"
    }
   ],
   "source": [
    "# Строим точечный график и график линейной регрессии\n",
    "plt.scatter(X_test['lstat'], y_test)\n",
    "plt.plot(X_test['lstat'], y_pred, c='r')\n",
    "# Как интерпретировать этот график?"
   ]
  },
  {
   "cell_type": "code",
   "execution_count": 24,
   "metadata": {},
   "outputs": [
    {
     "data": {
      "text/plain": [
       "21.09982090035226"
      ]
     },
     "execution_count": 24,
     "metadata": {},
     "output_type": "execute_result"
    }
   ],
   "source": [
    "from sklearn.metrics import mean_squared_error\n",
    "mean_squared_error(y_test, y_pred)"
   ]
  },
  {
   "cell_type": "code",
   "execution_count": 25,
   "metadata": {},
   "outputs": [],
   "source": [
    "# По-моему, средняя квадратичная ошибка имеет большое значение. Это значит, что модель плохо подобралась?"
   ]
  },
  {
   "cell_type": "code",
   "execution_count": null,
   "metadata": {},
   "outputs": [],
   "source": []
  },
  {
   "cell_type": "code",
   "execution_count": null,
   "metadata": {},
   "outputs": [],
   "source": []
  }
 ],
 "metadata": {
  "kernelspec": {
   "display_name": "Python 3",
   "language": "python",
   "name": "python3"
  },
  "language_info": {
   "codemirror_mode": {
    "name": "ipython",
    "version": 3
   },
   "file_extension": ".py",
   "mimetype": "text/x-python",
   "name": "python",
   "nbconvert_exporter": "python",
   "pygments_lexer": "ipython3",
   "version": "3.8.5"
  }
 },
 "nbformat": 4,
 "nbformat_minor": 4
}
